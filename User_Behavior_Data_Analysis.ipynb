{
  "nbformat": 4,
  "nbformat_minor": 0,
  "metadata": {
    "colab": {
      "name": "User Behavior Data Analysis",
      "provenance": [],
      "collapsed_sections": [
        "nh2i2QvxTCz0",
        "oJ-NJOQkf7f5",
        "-HfSmgZBTNLI",
        "6MsDu2S3KkNB",
        "GxDPk2ybtl9g",
        "6j_9CSrdPhev",
        "usQaJOaRPhfC",
        "hAvUmrtbPhfE",
        "S6K7MjBeW9dg",
        "lvzFMtguXwQh",
        "0RoC0rGtYQDV",
        "JrSQtr23YQDb",
        "ro5lvUBqYQDg"
      ]
    },
    "kernelspec": {
      "display_name": "Python 3",
      "name": "python3"
    }
  },
  "cells": [
    {
      "cell_type": "markdown",
      "metadata": {
        "id": "8HGWkb1lWUj2"
      },
      "source": [
        "# Kalma Data Analysis"
      ]
    },
    {
      "cell_type": "code",
      "metadata": {
        "colab": {
          "background_save": true,
          "base_uri": "https://localhost:8080/"
        },
        "id": "0dSXuE1gCMq5",
        "outputId": "d88c6991-087d-4562-abb2-34ad8e33f18f"
      },
      "source": [
        "from google.colab import files\n",
        "from google.colab import drive\n",
        "import pandas as pd \n",
        "drive.mount('/content/drive')"
      ],
      "execution_count": null,
      "outputs": [
        {
          "output_type": "stream",
          "text": [
            "Drive already mounted at /content/drive; to attempt to forcibly remount, call drive.mount(\"/content/drive\", force_remount=True).\n"
          ],
          "name": "stdout"
        }
      ]
    },
    {
      "cell_type": "code",
      "metadata": {
        "colab": {
          "base_uri": "https://localhost:8080/"
        },
        "id": "1AoLLAKRCPAY",
        "outputId": "4ebc6e83-ed26-410b-869b-b5c4786b1bbb"
      },
      "source": [
        "ls \"/content/drive/My Drive/Kalma\""
      ],
      "execution_count": null,
      "outputs": [
        {
          "output_type": "stream",
          "text": [
            "Friendship-2020-12-18.csv      Story-2020-12-18.csv\n",
            "Profile_photos-2020-12-18.csv  story_views.csv\n"
          ],
          "name": "stdout"
        }
      ]
    },
    {
      "cell_type": "markdown",
      "metadata": {
        "id": "28A5IFcvdiwk"
      },
      "source": [
        "**Loading Profile Photos csv**"
      ]
    },
    {
      "cell_type": "code",
      "metadata": {
        "colab": {
          "base_uri": "https://localhost:8080/",
          "height": 206
        },
        "id": "XJD7fTg5HSIQ",
        "outputId": "7b240b82-15f5-4e03-f6c1-06f602cfff13"
      },
      "source": [
        "profile_photos = pd.read_csv('/content/drive/My Drive/Kalma/Profile_photos-2020-12-18.csv')\n",
        "profile_photos.head()\n",
        "profile_photos.tail()"
      ],
      "execution_count": null,
      "outputs": [
        {
          "output_type": "execute_result",
          "data": {
            "text/html": [
              "<div>\n",
              "<style scoped>\n",
              "    .dataframe tbody tr th:only-of-type {\n",
              "        vertical-align: middle;\n",
              "    }\n",
              "\n",
              "    .dataframe tbody tr th {\n",
              "        vertical-align: top;\n",
              "    }\n",
              "\n",
              "    .dataframe thead th {\n",
              "        text-align: right;\n",
              "    }\n",
              "</style>\n",
              "<table border=\"1\" class=\"dataframe\">\n",
              "  <thead>\n",
              "    <tr style=\"text-align: right;\">\n",
              "      <th></th>\n",
              "      <th>id</th>\n",
              "      <th>user</th>\n",
              "      <th>approved</th>\n",
              "      <th>photo</th>\n",
              "      <th>modified</th>\n",
              "      <th>created</th>\n",
              "    </tr>\n",
              "  </thead>\n",
              "  <tbody>\n",
              "    <tr>\n",
              "      <th>10194</th>\n",
              "      <td>5</td>\n",
              "      <td>34819</td>\n",
              "      <td>1</td>\n",
              "      <td>static/images/57ab0347e8110b23_HFe7twd.jpg</td>\n",
              "      <td>2019-10-21 21:48:48</td>\n",
              "      <td>2019-07-30 01:27:29</td>\n",
              "    </tr>\n",
              "    <tr>\n",
              "      <th>10195</th>\n",
              "      <td>4</td>\n",
              "      <td>103905</td>\n",
              "      <td>1</td>\n",
              "      <td>static/images/f687b6b6a0ec7148.jpg</td>\n",
              "      <td>2019-07-30 01:27:28</td>\n",
              "      <td>2019-07-30 01:24:55</td>\n",
              "    </tr>\n",
              "    <tr>\n",
              "      <th>10196</th>\n",
              "      <td>3</td>\n",
              "      <td>104794</td>\n",
              "      <td>1</td>\n",
              "      <td>static/images/2d98e1b928e1e12f.jpg</td>\n",
              "      <td>2019-07-30 01:18:20</td>\n",
              "      <td>2019-07-30 01:12:42</td>\n",
              "    </tr>\n",
              "    <tr>\n",
              "      <th>10197</th>\n",
              "      <td>2</td>\n",
              "      <td>83664</td>\n",
              "      <td>1</td>\n",
              "      <td>static/images/0f942352d697bf82_lqxTKPF.jpg</td>\n",
              "      <td>2020-07-26 08:45:14</td>\n",
              "      <td>2019-07-30 01:06:57</td>\n",
              "    </tr>\n",
              "    <tr>\n",
              "      <th>10198</th>\n",
              "      <td>1</td>\n",
              "      <td>38062</td>\n",
              "      <td>1</td>\n",
              "      <td>static/images/a37210b04e557b74_UuZqp4o.jpg</td>\n",
              "      <td>2019-07-30 10:23:05</td>\n",
              "      <td>2019-07-29 21:58:28</td>\n",
              "    </tr>\n",
              "  </tbody>\n",
              "</table>\n",
              "</div>"
            ],
            "text/plain": [
              "       id    user  ...             modified              created\n",
              "10194   5   34819  ...  2019-10-21 21:48:48  2019-07-30 01:27:29\n",
              "10195   4  103905  ...  2019-07-30 01:27:28  2019-07-30 01:24:55\n",
              "10196   3  104794  ...  2019-07-30 01:18:20  2019-07-30 01:12:42\n",
              "10197   2   83664  ...  2020-07-26 08:45:14  2019-07-30 01:06:57\n",
              "10198   1   38062  ...  2019-07-30 10:23:05  2019-07-29 21:58:28\n",
              "\n",
              "[5 rows x 6 columns]"
            ]
          },
          "metadata": {
            "tags": []
          },
          "execution_count": 6
        }
      ]
    },
    {
      "cell_type": "markdown",
      "metadata": {
        "id": "qevB3X6Yd3TZ"
      },
      "source": [
        "**Loading Friendship csv**"
      ]
    },
    {
      "cell_type": "code",
      "metadata": {
        "colab": {
          "base_uri": "https://localhost:8080/",
          "height": 206
        },
        "id": "E6d9Sz-EUZ8w",
        "outputId": "519f4a8a-98eb-404f-8643-e0959b194741"
      },
      "source": [
        "friendship = pd.read_csv('/content/drive/My Drive/Kalma/Friendship-2020-12-18.csv')\n",
        "friendship.head()\n",
        "friendship.tail()"
      ],
      "execution_count": null,
      "outputs": [
        {
          "output_type": "execute_result",
          "data": {
            "text/html": [
              "<div>\n",
              "<style scoped>\n",
              "    .dataframe tbody tr th:only-of-type {\n",
              "        vertical-align: middle;\n",
              "    }\n",
              "\n",
              "    .dataframe tbody tr th {\n",
              "        vertical-align: top;\n",
              "    }\n",
              "\n",
              "    .dataframe thead th {\n",
              "        text-align: right;\n",
              "    }\n",
              "</style>\n",
              "<table border=\"1\" class=\"dataframe\">\n",
              "  <thead>\n",
              "    <tr style=\"text-align: right;\">\n",
              "      <th></th>\n",
              "      <th>id</th>\n",
              "      <th>user1</th>\n",
              "      <th>user2</th>\n",
              "      <th>created</th>\n",
              "    </tr>\n",
              "  </thead>\n",
              "  <tbody>\n",
              "    <tr>\n",
              "      <th>216458</th>\n",
              "      <td>5</td>\n",
              "      <td>358697313678244</td>\n",
              "      <td>358695654658247</td>\n",
              "      <td>2019-05-21 18:23:48</td>\n",
              "    </tr>\n",
              "    <tr>\n",
              "      <th>216459</th>\n",
              "      <td>4</td>\n",
              "      <td>357710986782243</td>\n",
              "      <td>358693696693247</td>\n",
              "      <td>2019-05-21 18:23:48</td>\n",
              "    </tr>\n",
              "    <tr>\n",
              "      <th>216460</th>\n",
              "      <td>3</td>\n",
              "      <td>357712186794243</td>\n",
              "      <td>357717086789243</td>\n",
              "      <td>2019-05-21 18:23:48</td>\n",
              "    </tr>\n",
              "    <tr>\n",
              "      <th>216461</th>\n",
              "      <td>2</td>\n",
              "      <td>353798985780243</td>\n",
              "      <td>352212056222244</td>\n",
              "      <td>2019-05-21 18:23:48</td>\n",
              "    </tr>\n",
              "    <tr>\n",
              "      <th>216462</th>\n",
              "      <td>1</td>\n",
              "      <td>352212056222244</td>\n",
              "      <td>358597552677244</td>\n",
              "      <td>2019-05-21 18:23:48</td>\n",
              "    </tr>\n",
              "  </tbody>\n",
              "</table>\n",
              "</div>"
            ],
            "text/plain": [
              "        id            user1            user2              created\n",
              "216458   5  358697313678244  358695654658247  2019-05-21 18:23:48\n",
              "216459   4  357710986782243  358693696693247  2019-05-21 18:23:48\n",
              "216460   3  357712186794243  357717086789243  2019-05-21 18:23:48\n",
              "216461   2  353798985780243  352212056222244  2019-05-21 18:23:48\n",
              "216462   1  352212056222244  358597552677244  2019-05-21 18:23:48"
            ]
          },
          "metadata": {
            "tags": []
          },
          "execution_count": 26
        }
      ]
    },
    {
      "cell_type": "markdown",
      "metadata": {
        "id": "fCskLVJreZDr"
      },
      "source": [
        "**Loading the stories csv**"
      ]
    },
    {
      "cell_type": "code",
      "metadata": {
        "colab": {
          "base_uri": "https://localhost:8080/",
          "height": 206
        },
        "id": "1jntRUccUqI-",
        "outputId": "34d84ed8-dce5-4fb2-d11f-08a4a077f4b8"
      },
      "source": [
        "story = pd.read_csv('/content/drive/My Drive/Kalma/Story-2020-12-18.csv')\n",
        "story.head()\n",
        "story.tail()"
      ],
      "execution_count": null,
      "outputs": [
        {
          "output_type": "execute_result",
          "data": {
            "text/html": [
              "<div>\n",
              "<style scoped>\n",
              "    .dataframe tbody tr th:only-of-type {\n",
              "        vertical-align: middle;\n",
              "    }\n",
              "\n",
              "    .dataframe tbody tr th {\n",
              "        vertical-align: top;\n",
              "    }\n",
              "\n",
              "    .dataframe thead th {\n",
              "        text-align: right;\n",
              "    }\n",
              "</style>\n",
              "<table border=\"1\" class=\"dataframe\">\n",
              "  <thead>\n",
              "    <tr style=\"text-align: right;\">\n",
              "      <th></th>\n",
              "      <th>id</th>\n",
              "      <th>user</th>\n",
              "      <th>photo</th>\n",
              "      <th>modified</th>\n",
              "      <th>created</th>\n",
              "    </tr>\n",
              "  </thead>\n",
              "  <tbody>\n",
              "    <tr>\n",
              "      <th>132166</th>\n",
              "      <td>67860</td>\n",
              "      <td>545962</td>\n",
              "      <td>static/images/72b47de2eb6044318b356d7ce1eb4b01...</td>\n",
              "      <td>2020-05-30 08:19:25</td>\n",
              "      <td>2020-05-30 08:19:25</td>\n",
              "    </tr>\n",
              "    <tr>\n",
              "      <th>132167</th>\n",
              "      <td>67859</td>\n",
              "      <td>204201</td>\n",
              "      <td>static/images/6db739ce8d264b7eb5d4d1f996989dd5...</td>\n",
              "      <td>2020-05-30 08:18:40</td>\n",
              "      <td>2020-05-30 08:18:40</td>\n",
              "    </tr>\n",
              "    <tr>\n",
              "      <th>132168</th>\n",
              "      <td>67858</td>\n",
              "      <td>307029</td>\n",
              "      <td>static/images/9fb2c9cc69b241d997e5c4aea25ce11a...</td>\n",
              "      <td>2020-05-30 08:16:25</td>\n",
              "      <td>2020-05-30 08:16:25</td>\n",
              "    </tr>\n",
              "    <tr>\n",
              "      <th>132169</th>\n",
              "      <td>67857</td>\n",
              "      <td>307029</td>\n",
              "      <td>static/images/7ca9469471954a0d80afa7e4f2b0d90a...</td>\n",
              "      <td>2020-05-30 08:15:59</td>\n",
              "      <td>2020-05-30 08:15:59</td>\n",
              "    </tr>\n",
              "    <tr>\n",
              "      <th>132170</th>\n",
              "      <td>67856</td>\n",
              "      <td>480436</td>\n",
              "      <td>static/images/2c60bb0acdc44f8d83948b99626b1b2e...</td>\n",
              "      <td>2020-05-30 08:15:25</td>\n",
              "      <td>2020-05-30 08:15:25</td>\n",
              "    </tr>\n",
              "  </tbody>\n",
              "</table>\n",
              "</div>"
            ],
            "text/plain": [
              "           id    user  ...             modified              created\n",
              "132166  67860  545962  ...  2020-05-30 08:19:25  2020-05-30 08:19:25\n",
              "132167  67859  204201  ...  2020-05-30 08:18:40  2020-05-30 08:18:40\n",
              "132168  67858  307029  ...  2020-05-30 08:16:25  2020-05-30 08:16:25\n",
              "132169  67857  307029  ...  2020-05-30 08:15:59  2020-05-30 08:15:59\n",
              "132170  67856  480436  ...  2020-05-30 08:15:25  2020-05-30 08:15:25\n",
              "\n",
              "[5 rows x 5 columns]"
            ]
          },
          "metadata": {
            "tags": []
          },
          "execution_count": 5
        }
      ]
    },
    {
      "cell_type": "markdown",
      "metadata": {
        "id": "BMKnpDkOfUG1"
      },
      "source": [
        "**Loading the stories views csv**"
      ]
    },
    {
      "cell_type": "code",
      "metadata": {
        "colab": {
          "base_uri": "https://localhost:8080/",
          "height": 206
        },
        "id": "pARsbgKOXHHH",
        "outputId": "a4d7c0c8-b485-4905-e061-e20ca589407b"
      },
      "source": [
        "story_views = pd.read_csv('/content/drive/My Drive/Kalma/story_views.csv',header = None)\n",
        "story_views.head()\n",
        "story_views.tail()"
      ],
      "execution_count": null,
      "outputs": [
        {
          "output_type": "execute_result",
          "data": {
            "text/html": [
              "<div>\n",
              "<style scoped>\n",
              "    .dataframe tbody tr th:only-of-type {\n",
              "        vertical-align: middle;\n",
              "    }\n",
              "\n",
              "    .dataframe tbody tr th {\n",
              "        vertical-align: top;\n",
              "    }\n",
              "\n",
              "    .dataframe thead th {\n",
              "        text-align: right;\n",
              "    }\n",
              "</style>\n",
              "<table border=\"1\" class=\"dataframe\">\n",
              "  <thead>\n",
              "    <tr style=\"text-align: right;\">\n",
              "      <th></th>\n",
              "      <th>0</th>\n",
              "      <th>1</th>\n",
              "      <th>2</th>\n",
              "      <th>3</th>\n",
              "      <th>4</th>\n",
              "      <th>5</th>\n",
              "    </tr>\n",
              "  </thead>\n",
              "  <tbody>\n",
              "    <tr>\n",
              "      <th>1591014</th>\n",
              "      <td>5331710</td>\n",
              "      <td>2020-12-18 11:04:08.861743</td>\n",
              "      <td>2020-12-18 11:04:08.861792</td>\n",
              "      <td>798374</td>\n",
              "      <td>816245</td>\n",
              "      <td>267364</td>\n",
              "    </tr>\n",
              "    <tr>\n",
              "      <th>1591015</th>\n",
              "      <td>5331711</td>\n",
              "      <td>2020-12-18 11:04:10.230974</td>\n",
              "      <td>2020-12-18 11:04:10.231020</td>\n",
              "      <td>636867</td>\n",
              "      <td>158850</td>\n",
              "      <td>267018</td>\n",
              "    </tr>\n",
              "    <tr>\n",
              "      <th>1591016</th>\n",
              "      <td>5331725</td>\n",
              "      <td>2020-12-18 11:06:13.478912</td>\n",
              "      <td>2020-12-18 11:06:13.478961</td>\n",
              "      <td>350595</td>\n",
              "      <td>657496</td>\n",
              "      <td>267301</td>\n",
              "    </tr>\n",
              "    <tr>\n",
              "      <th>1591017</th>\n",
              "      <td>5331732</td>\n",
              "      <td>2020-12-18 11:06:33.728459</td>\n",
              "      <td>2020-12-18 11:06:33.728508</td>\n",
              "      <td>816245</td>\n",
              "      <td>798374</td>\n",
              "      <td>267366</td>\n",
              "    </tr>\n",
              "    <tr>\n",
              "      <th>1591018</th>\n",
              "      <td>5331739</td>\n",
              "      <td>2020-12-18 11:06:53.018464</td>\n",
              "      <td>2020-12-18 11:06:53.018515</td>\n",
              "      <td>792288</td>\n",
              "      <td>657496</td>\n",
              "      <td>267295</td>\n",
              "    </tr>\n",
              "  </tbody>\n",
              "</table>\n",
              "</div>"
            ],
            "text/plain": [
              "               0                           1  ...       4       5\n",
              "1591014  5331710  2020-12-18 11:04:08.861743  ...  816245  267364\n",
              "1591015  5331711  2020-12-18 11:04:10.230974  ...  158850  267018\n",
              "1591016  5331725  2020-12-18 11:06:13.478912  ...  657496  267301\n",
              "1591017  5331732  2020-12-18 11:06:33.728459  ...  798374  267366\n",
              "1591018  5331739  2020-12-18 11:06:53.018464  ...  657496  267295\n",
              "\n",
              "[5 rows x 6 columns]"
            ]
          },
          "metadata": {
            "tags": []
          },
          "execution_count": 74
        }
      ]
    },
    {
      "cell_type": "code",
      "metadata": {
        "id": "Ox-pRA8952_k"
      },
      "source": [
        "headers=[\"id\",\"created\",\"modified\",\"story_owner_user_id\",\"story_viewer_user_id\",\"story_id\"]"
      ],
      "execution_count": null,
      "outputs": []
    },
    {
      "cell_type": "code",
      "metadata": {
        "colab": {
          "base_uri": "https://localhost:8080/",
          "height": 206
        },
        "id": "VAUmKQlkZ85r",
        "outputId": "24c57060-bbe2-49ac-ca37-7225917ca056"
      },
      "source": [
        "story_views.columns = headers\n",
        "story_views.head()"
      ],
      "execution_count": null,
      "outputs": [
        {
          "output_type": "execute_result",
          "data": {
            "text/html": [
              "<div>\n",
              "<style scoped>\n",
              "    .dataframe tbody tr th:only-of-type {\n",
              "        vertical-align: middle;\n",
              "    }\n",
              "\n",
              "    .dataframe tbody tr th {\n",
              "        vertical-align: top;\n",
              "    }\n",
              "\n",
              "    .dataframe thead th {\n",
              "        text-align: right;\n",
              "    }\n",
              "</style>\n",
              "<table border=\"1\" class=\"dataframe\">\n",
              "  <thead>\n",
              "    <tr style=\"text-align: right;\">\n",
              "      <th></th>\n",
              "      <th>id</th>\n",
              "      <th>created</th>\n",
              "      <th>modified</th>\n",
              "      <th>story_owner_user_id</th>\n",
              "      <th>story_viewer_user_id</th>\n",
              "      <th>story_id</th>\n",
              "    </tr>\n",
              "  </thead>\n",
              "  <tbody>\n",
              "    <tr>\n",
              "      <th>0</th>\n",
              "      <td>1</td>\n",
              "      <td>2020-05-30 08:21:05.363768</td>\n",
              "      <td>2020-05-30 08:21:05.363816</td>\n",
              "      <td>462724</td>\n",
              "      <td>545386</td>\n",
              "      <td>67862</td>\n",
              "    </tr>\n",
              "    <tr>\n",
              "      <th>1</th>\n",
              "      <td>5</td>\n",
              "      <td>2020-05-30 11:08:55.662443</td>\n",
              "      <td>2020-05-30 11:08:55.662492</td>\n",
              "      <td>227523</td>\n",
              "      <td>462724</td>\n",
              "      <td>67937</td>\n",
              "    </tr>\n",
              "    <tr>\n",
              "      <th>2</th>\n",
              "      <td>6</td>\n",
              "      <td>2020-05-30 11:08:57.435962</td>\n",
              "      <td>2020-05-30 11:08:57.436011</td>\n",
              "      <td>44725</td>\n",
              "      <td>462724</td>\n",
              "      <td>67924</td>\n",
              "    </tr>\n",
              "    <tr>\n",
              "      <th>3</th>\n",
              "      <td>7</td>\n",
              "      <td>2020-05-30 11:08:58.260124</td>\n",
              "      <td>2020-05-30 11:08:58.260169</td>\n",
              "      <td>44725</td>\n",
              "      <td>462724</td>\n",
              "      <td>67926</td>\n",
              "    </tr>\n",
              "    <tr>\n",
              "      <th>4</th>\n",
              "      <td>8</td>\n",
              "      <td>2020-05-30 11:08:58.862778</td>\n",
              "      <td>2020-05-30 11:08:58.862826</td>\n",
              "      <td>44725</td>\n",
              "      <td>462724</td>\n",
              "      <td>67930</td>\n",
              "    </tr>\n",
              "  </tbody>\n",
              "</table>\n",
              "</div>"
            ],
            "text/plain": [
              "   id                     created  ... story_viewer_user_id  story_id\n",
              "0   1  2020-05-30 08:21:05.363768  ...               545386     67862\n",
              "1   5  2020-05-30 11:08:55.662443  ...               462724     67937\n",
              "2   6  2020-05-30 11:08:57.435962  ...               462724     67924\n",
              "3   7  2020-05-30 11:08:58.260124  ...               462724     67926\n",
              "4   8  2020-05-30 11:08:58.862778  ...               462724     67930\n",
              "\n",
              "[5 rows x 6 columns]"
            ]
          },
          "metadata": {
            "tags": []
          },
          "execution_count": 76
        }
      ]
    },
    {
      "cell_type": "markdown",
      "metadata": {
        "id": "LjuFpj-0BTLj"
      },
      "source": [
        "# **Profile Pictures Analysis**"
      ]
    },
    {
      "cell_type": "code",
      "metadata": {
        "colab": {
          "base_uri": "https://localhost:8080/",
          "height": 394
        },
        "id": "zlLrPK6maTX3",
        "outputId": "93bd8ba8-53eb-4d68-b28c-b3cfd85f6cda"
      },
      "source": [
        "profile_photos.describe(include = \"all\")"
      ],
      "execution_count": null,
      "outputs": [
        {
          "output_type": "execute_result",
          "data": {
            "text/html": [
              "<div>\n",
              "<style scoped>\n",
              "    .dataframe tbody tr th:only-of-type {\n",
              "        vertical-align: middle;\n",
              "    }\n",
              "\n",
              "    .dataframe tbody tr th {\n",
              "        vertical-align: top;\n",
              "    }\n",
              "\n",
              "    .dataframe thead th {\n",
              "        text-align: right;\n",
              "    }\n",
              "</style>\n",
              "<table border=\"1\" class=\"dataframe\">\n",
              "  <thead>\n",
              "    <tr style=\"text-align: right;\">\n",
              "      <th></th>\n",
              "      <th>id</th>\n",
              "      <th>user</th>\n",
              "      <th>approved</th>\n",
              "      <th>photo</th>\n",
              "      <th>modified</th>\n",
              "      <th>created</th>\n",
              "    </tr>\n",
              "  </thead>\n",
              "  <tbody>\n",
              "    <tr>\n",
              "      <th>count</th>\n",
              "      <td>10199.000000</td>\n",
              "      <td>10199.000000</td>\n",
              "      <td>10199.000000</td>\n",
              "      <td>10199</td>\n",
              "      <td>10199</td>\n",
              "      <td>10199</td>\n",
              "    </tr>\n",
              "    <tr>\n",
              "      <th>unique</th>\n",
              "      <td>NaN</td>\n",
              "      <td>NaN</td>\n",
              "      <td>NaN</td>\n",
              "      <td>10199</td>\n",
              "      <td>4919</td>\n",
              "      <td>10193</td>\n",
              "    </tr>\n",
              "    <tr>\n",
              "      <th>top</th>\n",
              "      <td>NaN</td>\n",
              "      <td>NaN</td>\n",
              "      <td>NaN</td>\n",
              "      <td>static/images/48071c402260d1ee_HWPvXvi.jpg</td>\n",
              "      <td>2019-08-30 06:45:58</td>\n",
              "      <td>2020-05-21 09:17:35</td>\n",
              "    </tr>\n",
              "    <tr>\n",
              "      <th>freq</th>\n",
              "      <td>NaN</td>\n",
              "      <td>NaN</td>\n",
              "      <td>NaN</td>\n",
              "      <td>1</td>\n",
              "      <td>19</td>\n",
              "      <td>2</td>\n",
              "    </tr>\n",
              "    <tr>\n",
              "      <th>mean</th>\n",
              "      <td>5170.113148</td>\n",
              "      <td>489044.084616</td>\n",
              "      <td>0.994411</td>\n",
              "      <td>NaN</td>\n",
              "      <td>NaN</td>\n",
              "      <td>NaN</td>\n",
              "    </tr>\n",
              "    <tr>\n",
              "      <th>std</th>\n",
              "      <td>2976.665323</td>\n",
              "      <td>242163.837110</td>\n",
              "      <td>0.074553</td>\n",
              "      <td>NaN</td>\n",
              "      <td>NaN</td>\n",
              "      <td>NaN</td>\n",
              "    </tr>\n",
              "    <tr>\n",
              "      <th>min</th>\n",
              "      <td>1.000000</td>\n",
              "      <td>847.000000</td>\n",
              "      <td>0.000000</td>\n",
              "      <td>NaN</td>\n",
              "      <td>NaN</td>\n",
              "      <td>NaN</td>\n",
              "    </tr>\n",
              "    <tr>\n",
              "      <th>25%</th>\n",
              "      <td>2594.500000</td>\n",
              "      <td>251276.000000</td>\n",
              "      <td>1.000000</td>\n",
              "      <td>NaN</td>\n",
              "      <td>NaN</td>\n",
              "      <td>NaN</td>\n",
              "    </tr>\n",
              "    <tr>\n",
              "      <th>50%</th>\n",
              "      <td>5167.000000</td>\n",
              "      <td>550920.000000</td>\n",
              "      <td>1.000000</td>\n",
              "      <td>NaN</td>\n",
              "      <td>NaN</td>\n",
              "      <td>NaN</td>\n",
              "    </tr>\n",
              "    <tr>\n",
              "      <th>75%</th>\n",
              "      <td>7758.500000</td>\n",
              "      <td>697643.500000</td>\n",
              "      <td>1.000000</td>\n",
              "      <td>NaN</td>\n",
              "      <td>NaN</td>\n",
              "      <td>NaN</td>\n",
              "    </tr>\n",
              "    <tr>\n",
              "      <th>max</th>\n",
              "      <td>10312.000000</td>\n",
              "      <td>828777.000000</td>\n",
              "      <td>1.000000</td>\n",
              "      <td>NaN</td>\n",
              "      <td>NaN</td>\n",
              "      <td>NaN</td>\n",
              "    </tr>\n",
              "  </tbody>\n",
              "</table>\n",
              "</div>"
            ],
            "text/plain": [
              "                  id           user  ...             modified              created\n",
              "count   10199.000000   10199.000000  ...                10199                10199\n",
              "unique           NaN            NaN  ...                 4919                10193\n",
              "top              NaN            NaN  ...  2019-08-30 06:45:58  2020-05-21 09:17:35\n",
              "freq             NaN            NaN  ...                   19                    2\n",
              "mean     5170.113148  489044.084616  ...                  NaN                  NaN\n",
              "std      2976.665323  242163.837110  ...                  NaN                  NaN\n",
              "min         1.000000     847.000000  ...                  NaN                  NaN\n",
              "25%      2594.500000  251276.000000  ...                  NaN                  NaN\n",
              "50%      5167.000000  550920.000000  ...                  NaN                  NaN\n",
              "75%      7758.500000  697643.500000  ...                  NaN                  NaN\n",
              "max     10312.000000  828777.000000  ...                  NaN                  NaN\n",
              "\n",
              "[11 rows x 6 columns]"
            ]
          },
          "metadata": {
            "tags": []
          },
          "execution_count": 6
        }
      ]
    },
    {
      "cell_type": "code",
      "metadata": {
        "colab": {
          "base_uri": "https://localhost:8080/"
        },
        "id": "wVtE-jX4cI9Q",
        "outputId": "030b9aed-0607-4a4f-f8b1-35bc2b065084"
      },
      "source": [
        "profile_photos['created']"
      ],
      "execution_count": null,
      "outputs": [
        {
          "output_type": "execute_result",
          "data": {
            "text/plain": [
              "0        2020-12-18 11:19:58\n",
              "1        2020-12-18 10:54:29\n",
              "2        2020-12-18 09:45:22\n",
              "3        2020-12-18 06:58:29\n",
              "4        2020-12-18 02:18:03\n",
              "                ...         \n",
              "10194    2019-07-30 01:27:29\n",
              "10195    2019-07-30 01:24:55\n",
              "10196    2019-07-30 01:12:42\n",
              "10197    2019-07-30 01:06:57\n",
              "10198    2019-07-29 21:58:28\n",
              "Name: created, Length: 10199, dtype: object"
            ]
          },
          "metadata": {
            "tags": []
          },
          "execution_count": 62
        }
      ]
    },
    {
      "cell_type": "code",
      "metadata": {
        "id": "7sNr7vsKfAI2"
      },
      "source": [
        "profile_photos['created'] = pd.to_datetime(profile_photos['created'])"
      ],
      "execution_count": null,
      "outputs": []
    },
    {
      "cell_type": "markdown",
      "metadata": {
        "id": "B8230DK3oROW"
      },
      "source": [
        "# How many profile pictures are being updated per day \n",
        "\n",
        "on minimum 1\n",
        "\n",
        "on average 20\n",
        "\n",
        "on maximum 138"
      ]
    },
    {
      "cell_type": "code",
      "metadata": {
        "colab": {
          "base_uri": "https://localhost:8080/"
        },
        "id": "ddjS6_dSoYi8",
        "outputId": "0e3d5857-829d-41e4-ffc5-ae9a498ab5ee"
      },
      "source": [
        "per_d = profile_photos.created.dt.to_period(\"D\")\n",
        "profile_photos_D = profile_photos['created'].groupby(per_d)\n",
        "profile_photos_D.count().mean()"
      ],
      "execution_count": null,
      "outputs": [
        {
          "output_type": "execute_result",
          "data": {
            "text/plain": [
              "20.156126482213438"
            ]
          },
          "metadata": {
            "tags": []
          },
          "execution_count": 69
        }
      ]
    },
    {
      "cell_type": "code",
      "metadata": {
        "colab": {
          "base_uri": "https://localhost:8080/"
        },
        "id": "ywy56UcrUB-i",
        "outputId": "8072a704-93e6-4603-f1c0-d89d8163ad30"
      },
      "source": [
        "profile_photos_D.count().min()"
      ],
      "execution_count": null,
      "outputs": [
        {
          "output_type": "execute_result",
          "data": {
            "text/plain": [
              "1"
            ]
          },
          "metadata": {
            "tags": []
          },
          "execution_count": 72
        }
      ]
    },
    {
      "cell_type": "code",
      "metadata": {
        "colab": {
          "base_uri": "https://localhost:8080/"
        },
        "id": "_nLfen0KUKOT",
        "outputId": "81e465ac-536a-4ddd-f39f-5da781d9dc11"
      },
      "source": [
        "profile_photos_D.count().max()"
      ],
      "execution_count": null,
      "outputs": [
        {
          "output_type": "execute_result",
          "data": {
            "text/plain": [
              "138"
            ]
          },
          "metadata": {
            "tags": []
          },
          "execution_count": 73
        }
      ]
    },
    {
      "cell_type": "markdown",
      "metadata": {
        "id": "nh2i2QvxTCz0"
      },
      "source": [
        "#profile pictures peaks - Hour\n",
        "\n",
        "5:00 PM\n",
        "\n",
        "\n",
        "\n",
        "\n",
        "\n"
      ]
    },
    {
      "cell_type": "code",
      "metadata": {
        "colab": {
          "base_uri": "https://localhost:8080/"
        },
        "id": "Pgdzz0_VFJWX",
        "outputId": "c7a00eb0-6350-4811-9c2f-44fb2c2821fb"
      },
      "source": [
        "profile_photos_h = profile_photos['created'].dt.strftime('%H') \n",
        "profile_photos_h"
      ],
      "execution_count": null,
      "outputs": [
        {
          "output_type": "execute_result",
          "data": {
            "text/plain": [
              "0        11\n",
              "1        10\n",
              "2        09\n",
              "3        06\n",
              "4        02\n",
              "         ..\n",
              "10194    01\n",
              "10195    01\n",
              "10196    01\n",
              "10197    01\n",
              "10198    21\n",
              "Name: created, Length: 10199, dtype: object"
            ]
          },
          "metadata": {
            "tags": []
          },
          "execution_count": 9
        }
      ]
    },
    {
      "cell_type": "code",
      "metadata": {
        "colab": {
          "base_uri": "https://localhost:8080/"
        },
        "id": "ETYwxfYLO0jt",
        "outputId": "f5b98438-3ae3-4126-ba90-c82dd3136566"
      },
      "source": [
        "profile_photos_h.value_counts().sort_values()"
      ],
      "execution_count": null,
      "outputs": [
        {
          "output_type": "execute_result",
          "data": {
            "text/plain": [
              "04    190\n",
              "03    210\n",
              "05    215\n",
              "02    225\n",
              "06    236\n",
              "07    260\n",
              "01    279\n",
              "00    327\n",
              "08    338\n",
              "23    378\n",
              "22    455\n",
              "09    472\n",
              "21    473\n",
              "10    497\n",
              "20    520\n",
              "13    537\n",
              "11    540\n",
              "14    547\n",
              "19    554\n",
              "15    556\n",
              "18    558\n",
              "12    572\n",
              "16    600\n",
              "17    660\n",
              "Name: created, dtype: int64"
            ]
          },
          "metadata": {
            "tags": []
          },
          "execution_count": 10
        }
      ]
    },
    {
      "cell_type": "code",
      "metadata": {
        "colab": {
          "base_uri": "https://localhost:8080/",
          "height": 282
        },
        "id": "NIYpCm5yQr72",
        "outputId": "a0dd3338-6561-43a1-9edf-d81db7b045c4"
      },
      "source": [
        "profile_photos_h.value_counts().sort_values().plot(kind = 'barh')"
      ],
      "execution_count": null,
      "outputs": [
        {
          "output_type": "execute_result",
          "data": {
            "text/plain": [
              "<matplotlib.axes._subplots.AxesSubplot at 0x7f6abc991b38>"
            ]
          },
          "metadata": {
            "tags": []
          },
          "execution_count": 11
        },
        {
          "output_type": "display_data",
          "data": {
            "image/png": "[encoded data removed]",
            "text/plain": [
              "<Figure size 432x288 with 1 Axes>"
            ]
          },
          "metadata": {
            "tags": []
          }
        }
      ]
    },
    {
      "cell_type": "markdown",
      "metadata": {
        "id": "oJ-NJOQkf7f5"
      },
      "source": [
        "#profile pictures peaks - Day\n",
        "\n",
        "'26 / 11 / 2020'\n",
        "\n",
        "\n",
        "\n"
      ]
    },
    {
      "cell_type": "code",
      "metadata": {
        "colab": {
          "base_uri": "https://localhost:8080/"
        },
        "id": "I_qVXuAWgIb5",
        "outputId": "faa85c5a-7ccf-4ad7-999f-c969d433c28b"
      },
      "source": [
        "per = profile_photos.created.dt.to_period(\"D\")\n",
        "profile_photos_D = profile_photos['created'].groupby(per)\n",
        "profile_photos_D.count().sort_values() "
      ],
      "execution_count": null,
      "outputs": [
        {
          "output_type": "execute_result",
          "data": {
            "text/plain": [
              "created\n",
              "2019-07-29      1\n",
              "2019-10-24      1\n",
              "2019-12-05      1\n",
              "2020-03-10      1\n",
              "2020-02-29      1\n",
              "             ... \n",
              "2020-08-23     62\n",
              "2019-08-03     62\n",
              "2020-10-03     63\n",
              "2020-09-18     64\n",
              "2019-07-30    138\n",
              "Freq: D, Name: created, Length: 506, dtype: int64"
            ]
          },
          "metadata": {
            "tags": []
          },
          "execution_count": 12
        }
      ]
    },
    {
      "cell_type": "code",
      "metadata": {
        "colab": {
          "base_uri": "https://localhost:8080/",
          "height": 286
        },
        "id": "i3NSBQfZg-rh",
        "outputId": "41cd6d27-8e11-46e8-f3a5-710f3671c939"
      },
      "source": [
        "profile_photos_D.value_counts().sort_values().plot(kind = 'barh')"
      ],
      "execution_count": null,
      "outputs": [
        {
          "output_type": "execute_result",
          "data": {
            "text/plain": [
              "<matplotlib.axes._subplots.AxesSubplot at 0x7f9a75c8b940>"
            ]
          },
          "metadata": {
            "tags": []
          },
          "execution_count": 24
        },
        {
          "output_type": "display_data",
          "data": {
            "image/png": "[encoded data removed]",
            "text/plain": [
              "<Figure size 432x288 with 1 Axes>"
            ]
          },
          "metadata": {
            "tags": []
          }
        }
      ]
    },
    {
      "cell_type": "markdown",
      "metadata": {
        "id": "-HfSmgZBTNLI"
      },
      "source": [
        "#profile pictures peaks - Month\n",
        "\n",
        "August\n",
        "\n",
        "\n"
      ]
    },
    {
      "cell_type": "code",
      "metadata": {
        "colab": {
          "base_uri": "https://localhost:8080/"
        },
        "id": "aneZ0fDzhg1T",
        "outputId": "ce401a0a-e8c1-4376-db0c-7c7cf23f3e62"
      },
      "source": [
        "per_m = profile_photos.created.dt.to_period(\"M\")\n",
        "profile_photos_M = profile_photos['created'].groupby(per_m)\n",
        "profile_photos_M.count().sort_values()"
      ],
      "execution_count": null,
      "outputs": [
        {
          "output_type": "execute_result",
          "data": {
            "text/plain": [
              "created\n",
              "2020-02     150\n",
              "2019-12     174\n",
              "2019-11     179\n",
              "2019-07     200\n",
              "2020-01     216\n",
              "2019-10     228\n",
              "2020-03     302\n",
              "2020-12     354\n",
              "2020-11     582\n",
              "2020-04     639\n",
              "2019-09     650\n",
              "2020-05     812\n",
              "2020-10     821\n",
              "2020-07     823\n",
              "2020-06     852\n",
              "2019-08     907\n",
              "2020-09    1051\n",
              "2020-08    1259\n",
              "Freq: M, Name: created, dtype: int64"
            ]
          },
          "metadata": {
            "tags": []
          },
          "execution_count": 13
        }
      ]
    },
    {
      "cell_type": "code",
      "metadata": {
        "colab": {
          "base_uri": "https://localhost:8080/",
          "height": 286
        },
        "id": "NUgsEGxaiBnn",
        "outputId": "78e7670b-3491-4f44-eb66-28d57a4512cb"
      },
      "source": [
        "profile_photos_M.value_counts().sort_values().plot(kind = 'barh')"
      ],
      "execution_count": null,
      "outputs": [
        {
          "output_type": "execute_result",
          "data": {
            "text/plain": [
              "<matplotlib.axes._subplots.AxesSubplot at 0x7f9a8299acc0>"
            ]
          },
          "metadata": {
            "tags": []
          },
          "execution_count": 23
        },
        {
          "output_type": "display_data",
          "data": {
            "image/png": "[encoded data removed]",
            "text/plain": [
              "<Figure size 432x288 with 1 Axes>"
            ]
          },
          "metadata": {
            "tags": []
          }
        }
      ]
    },
    {
      "cell_type": "markdown",
      "metadata": {
        "id": "6MsDu2S3KkNB"
      },
      "source": [
        "# **Friendships Analysis**"
      ]
    },
    {
      "cell_type": "code",
      "metadata": {
        "colab": {
          "base_uri": "https://localhost:8080/",
          "height": 394
        },
        "id": "x55pSUL0rit6",
        "outputId": "9c35e053-6dae-417d-dc15-26c1e3a74ead"
      },
      "source": [
        "friendship.describe(include = \"all\")"
      ],
      "execution_count": null,
      "outputs": [
        {
          "output_type": "execute_result",
          "data": {
            "text/html": [
              "<div>\n",
              "<style scoped>\n",
              "    .dataframe tbody tr th:only-of-type {\n",
              "        vertical-align: middle;\n",
              "    }\n",
              "\n",
              "    .dataframe tbody tr th {\n",
              "        vertical-align: top;\n",
              "    }\n",
              "\n",
              "    .dataframe thead th {\n",
              "        text-align: right;\n",
              "    }\n",
              "</style>\n",
              "<table border=\"1\" class=\"dataframe\">\n",
              "  <thead>\n",
              "    <tr style=\"text-align: right;\">\n",
              "      <th></th>\n",
              "      <th>id</th>\n",
              "      <th>user1</th>\n",
              "      <th>user2</th>\n",
              "      <th>created</th>\n",
              "    </tr>\n",
              "  </thead>\n",
              "  <tbody>\n",
              "    <tr>\n",
              "      <th>count</th>\n",
              "      <td>216463.000000</td>\n",
              "      <td>216463</td>\n",
              "      <td>216462</td>\n",
              "      <td>216463</td>\n",
              "    </tr>\n",
              "    <tr>\n",
              "      <th>unique</th>\n",
              "      <td>NaN</td>\n",
              "      <td>69667</td>\n",
              "      <td>71104</td>\n",
              "      <td>211267</td>\n",
              "    </tr>\n",
              "    <tr>\n",
              "      <th>top</th>\n",
              "      <td>NaN</td>\n",
              "      <td>587340abd68d1ecd</td>\n",
              "      <td>c0cd64fdb7a653f9</td>\n",
              "      <td>2019-05-21 18:23:49</td>\n",
              "    </tr>\n",
              "    <tr>\n",
              "      <th>freq</th>\n",
              "      <td>NaN</td>\n",
              "      <td>558</td>\n",
              "      <td>642</td>\n",
              "      <td>848</td>\n",
              "    </tr>\n",
              "    <tr>\n",
              "      <th>mean</th>\n",
              "      <td>333584.097629</td>\n",
              "      <td>NaN</td>\n",
              "      <td>NaN</td>\n",
              "      <td>NaN</td>\n",
              "    </tr>\n",
              "    <tr>\n",
              "      <th>std</th>\n",
              "      <td>194720.710668</td>\n",
              "      <td>NaN</td>\n",
              "      <td>NaN</td>\n",
              "      <td>NaN</td>\n",
              "    </tr>\n",
              "    <tr>\n",
              "      <th>min</th>\n",
              "      <td>1.000000</td>\n",
              "      <td>NaN</td>\n",
              "      <td>NaN</td>\n",
              "      <td>NaN</td>\n",
              "    </tr>\n",
              "    <tr>\n",
              "      <th>25%</th>\n",
              "      <td>163997.000000</td>\n",
              "      <td>NaN</td>\n",
              "      <td>NaN</td>\n",
              "      <td>NaN</td>\n",
              "    </tr>\n",
              "    <tr>\n",
              "      <th>50%</th>\n",
              "      <td>354216.000000</td>\n",
              "      <td>NaN</td>\n",
              "      <td>NaN</td>\n",
              "      <td>NaN</td>\n",
              "    </tr>\n",
              "    <tr>\n",
              "      <th>75%</th>\n",
              "      <td>502692.000000</td>\n",
              "      <td>NaN</td>\n",
              "      <td>NaN</td>\n",
              "      <td>NaN</td>\n",
              "    </tr>\n",
              "    <tr>\n",
              "      <th>max</th>\n",
              "      <td>641329.000000</td>\n",
              "      <td>NaN</td>\n",
              "      <td>NaN</td>\n",
              "      <td>NaN</td>\n",
              "    </tr>\n",
              "  </tbody>\n",
              "</table>\n",
              "</div>"
            ],
            "text/plain": [
              "                   id             user1             user2              created\n",
              "count   216463.000000            216463            216462               216463\n",
              "unique            NaN             69667             71104               211267\n",
              "top               NaN  587340abd68d1ecd  c0cd64fdb7a653f9  2019-05-21 18:23:49\n",
              "freq              NaN               558               642                  848\n",
              "mean    333584.097629               NaN               NaN                  NaN\n",
              "std     194720.710668               NaN               NaN                  NaN\n",
              "min          1.000000               NaN               NaN                  NaN\n",
              "25%     163997.000000               NaN               NaN                  NaN\n",
              "50%     354216.000000               NaN               NaN                  NaN\n",
              "75%     502692.000000               NaN               NaN                  NaN\n",
              "max     641329.000000               NaN               NaN                  NaN"
            ]
          },
          "metadata": {
            "tags": []
          },
          "execution_count": 27
        }
      ]
    },
    {
      "cell_type": "code",
      "metadata": {
        "colab": {
          "base_uri": "https://localhost:8080/"
        },
        "id": "L_qPtjNHsSJP",
        "outputId": "5d4cf381-3de0-4a2f-b827-be9cbca15c47"
      },
      "source": [
        "friendship['created'] "
      ],
      "execution_count": null,
      "outputs": [
        {
          "output_type": "execute_result",
          "data": {
            "text/plain": [
              "0         2020-12-18 12:26:18\n",
              "1         2020-12-18 12:24:22\n",
              "2         2020-12-18 12:22:19\n",
              "3         2020-12-18 12:20:37\n",
              "4         2020-12-18 12:19:12\n",
              "                 ...         \n",
              "216458    2019-05-21 18:23:48\n",
              "216459    2019-05-21 18:23:48\n",
              "216460    2019-05-21 18:23:48\n",
              "216461    2019-05-21 18:23:48\n",
              "216462    2019-05-21 18:23:48\n",
              "Name: created, Length: 216463, dtype: object"
            ]
          },
          "metadata": {
            "tags": []
          },
          "execution_count": 28
        }
      ]
    },
    {
      "cell_type": "code",
      "metadata": {
        "id": "InHvgyBDsAU_"
      },
      "source": [
        "friendship['created'] = pd.to_datetime( friendship['created'] )"
      ],
      "execution_count": null,
      "outputs": []
    },
    {
      "cell_type": "markdown",
      "metadata": {
        "id": "GxDPk2ybtl9g"
      },
      "source": [
        "# How many friend requests are being accepted per day  \n",
        "\n",
        "on minimum 183\n",
        "\n",
        "on average 424\n",
        "\n",
        "on maximum 690"
      ]
    },
    {
      "cell_type": "code",
      "metadata": {
        "colab": {
          "base_uri": "https://localhost:8080/"
        },
        "id": "63sRX6mWtl9j",
        "outputId": "fceb429f-fb5e-48bb-bd25-fed6271016ce"
      },
      "source": [
        "per_d = friendship.created.dt.to_period(\"D\")\n",
        "friendship_D = profile_photos['created'].groupby(per_d)\n",
        "friendship_D.count().mean()"
      ],
      "execution_count": null,
      "outputs": [
        {
          "output_type": "execute_result",
          "data": {
            "text/plain": [
              "424.9583333333333"
            ]
          },
          "metadata": {
            "tags": []
          },
          "execution_count": 38
        }
      ]
    },
    {
      "cell_type": "code",
      "metadata": {
        "colab": {
          "base_uri": "https://localhost:8080/"
        },
        "id": "8k5FSyRQK853",
        "outputId": "454455cd-b76a-4ddf-d6ce-2cf9c91624ca"
      },
      "source": [
        "friendship_D.count().min()\n"
      ],
      "execution_count": null,
      "outputs": [
        {
          "output_type": "execute_result",
          "data": {
            "text/plain": [
              "183"
            ]
          },
          "metadata": {
            "tags": []
          },
          "execution_count": 35
        }
      ]
    },
    {
      "cell_type": "code",
      "metadata": {
        "colab": {
          "base_uri": "https://localhost:8080/"
        },
        "id": "iegPOo_hTEeW",
        "outputId": "7411da44-7979-40e5-b03e-aaf9a3b70f91"
      },
      "source": [
        "friendship_D.count().max()"
      ],
      "execution_count": null,
      "outputs": [
        {
          "output_type": "execute_result",
          "data": {
            "text/plain": [
              "690"
            ]
          },
          "metadata": {
            "tags": []
          },
          "execution_count": 36
        }
      ]
    },
    {
      "cell_type": "markdown",
      "metadata": {
        "id": "6j_9CSrdPhev"
      },
      "source": [
        "#Friendships peaks - Hour\n",
        "\n",
        "6:00 PM\n",
        "\n"
      ]
    },
    {
      "cell_type": "code",
      "metadata": {
        "colab": {
          "base_uri": "https://localhost:8080/"
        },
        "id": "UV5LqUGtsviA",
        "outputId": "33f07aa1-84df-4aa3-88d2-6cea854ad777"
      },
      "source": [
        "friendship_h = friendship['created'].dt.strftime('%H') \n",
        "friendship_h"
      ],
      "execution_count": null,
      "outputs": [
        {
          "output_type": "execute_result",
          "data": {
            "text/plain": [
              "0         12\n",
              "1         12\n",
              "2         12\n",
              "3         12\n",
              "4         12\n",
              "          ..\n",
              "216458    18\n",
              "216459    18\n",
              "216460    18\n",
              "216461    18\n",
              "216462    18\n",
              "Name: created, Length: 216463, dtype: object"
            ]
          },
          "metadata": {
            "tags": []
          },
          "execution_count": 42
        }
      ]
    },
    {
      "cell_type": "code",
      "metadata": {
        "colab": {
          "base_uri": "https://localhost:8080/"
        },
        "id": "0GWR0-a3sviM",
        "outputId": "c591af73-d26b-42fe-c9d2-82b10b838dad"
      },
      "source": [
        "friendship_h.value_counts()"
      ],
      "execution_count": null,
      "outputs": [
        {
          "output_type": "execute_result",
          "data": {
            "text/plain": [
              "18    16846\n",
              "19    12923\n",
              "20    12450\n",
              "17    12284\n",
              "14    11884\n",
              "21    11670\n",
              "15    11625\n",
              "13    11563\n",
              "12    11515\n",
              "16    11238\n",
              "11    11117\n",
              "22    10491\n",
              "10     9469\n",
              "23     9183\n",
              "00     7644\n",
              "09     7563\n",
              "08     6196\n",
              "01     5910\n",
              "07     4996\n",
              "02     4736\n",
              "06     4215\n",
              "03     3783\n",
              "05     3671\n",
              "04     3491\n",
              "Name: created, dtype: int64"
            ]
          },
          "metadata": {
            "tags": []
          },
          "execution_count": 43
        }
      ]
    },
    {
      "cell_type": "code",
      "metadata": {
        "colab": {
          "base_uri": "https://localhost:8080/",
          "height": 282
        },
        "id": "8phVI93PsviV",
        "outputId": "617bd2cf-daef-4f9b-f209-9df8a125892f"
      },
      "source": [
        "friendship_h.value_counts().sort_values().plot(kind = 'barh')"
      ],
      "execution_count": null,
      "outputs": [
        {
          "output_type": "execute_result",
          "data": {
            "text/plain": [
              "<matplotlib.axes._subplots.AxesSubplot at 0x7f3a624df780>"
            ]
          },
          "metadata": {
            "tags": []
          },
          "execution_count": 56
        },
        {
          "output_type": "display_data",
          "data": {
            "image/png": "[encoded data removed]",
            "text/plain": [
              "<Figure size 432x288 with 1 Axes>"
            ]
          },
          "metadata": {
            "tags": []
          }
        }
      ]
    },
    {
      "cell_type": "markdown",
      "metadata": {
        "id": "usQaJOaRPhfC"
      },
      "source": [
        "#Friendships peaks - Day\n",
        "\n",
        "'2019-05-21'\n",
        "\n",
        "\n"
      ]
    },
    {
      "cell_type": "code",
      "metadata": {
        "colab": {
          "base_uri": "https://localhost:8080/"
        },
        "id": "-TwBmJKUtl9R",
        "outputId": "24b63991-6fc4-4dfb-e2ce-897c0b4b460c"
      },
      "source": [
        "per = friendship.created.dt.to_period(\"D\")\n",
        "friendship_D = friendship['created'].groupby(per)\n",
        "friendship_D.count().sort_values()  "
      ],
      "execution_count": null,
      "outputs": [
        {
          "output_type": "execute_result",
          "data": {
            "text/plain": [
              "created\n",
              "2019-06-08       1\n",
              "2019-12-26      54\n",
              "2020-02-24      56\n",
              "2020-02-05      61\n",
              "2019-12-04      62\n",
              "              ... \n",
              "2020-07-15     824\n",
              "2020-08-13     846\n",
              "2020-08-11     847\n",
              "2020-07-13     871\n",
              "2019-05-21    4229\n",
              "Freq: D, Name: created, Length: 577, dtype: int64"
            ]
          },
          "metadata": {
            "tags": []
          },
          "execution_count": 44
        }
      ]
    },
    {
      "cell_type": "code",
      "metadata": {
        "id": "vmHBSonutl9U"
      },
      "source": [
        "friendship_D.value_counts().sort_values().plot(kind = 'barh')"
      ],
      "execution_count": null,
      "outputs": []
    },
    {
      "cell_type": "markdown",
      "metadata": {
        "id": "hAvUmrtbPhfE"
      },
      "source": [
        "#Friendships peaks - Month\n",
        "August\n",
        "\n"
      ]
    },
    {
      "cell_type": "code",
      "metadata": {
        "colab": {
          "base_uri": "https://localhost:8080/"
        },
        "id": "DRdy_kohtl9b",
        "outputId": "85d94e36-a782-4c9c-b96c-b3f9faec2fcb"
      },
      "source": [
        "per_m = friendship.created.dt.to_period(\"M\")\n",
        "friendship_M = friendship['created'].groupby(per_m)\n",
        "friendship_M.count().sort_values() "
      ],
      "execution_count": null,
      "outputs": [
        {
          "output_type": "execute_result",
          "data": {
            "text/plain": [
              "created\n",
              "2020-02     3265\n",
              "2019-11     6188\n",
              "2019-10     6731\n",
              "2019-12     6892\n",
              "2020-01     7137\n",
              "2019-05     7624\n",
              "2019-06     7925\n",
              "2020-12     7932\n",
              "2019-09     9017\n",
              "2020-11     9685\n",
              "2020-03     9887\n",
              "2020-10    12206\n",
              "2019-07    12256\n",
              "2019-08    13110\n",
              "2020-05    13405\n",
              "2020-04    13828\n",
              "2020-09    14826\n",
              "2020-06    16236\n",
              "2020-07    18866\n",
              "2020-08    19447\n",
              "Freq: M, Name: created, dtype: int64"
            ]
          },
          "metadata": {
            "tags": []
          },
          "execution_count": 45
        }
      ]
    },
    {
      "cell_type": "code",
      "metadata": {
        "id": "Kg_BkKKZtl9e"
      },
      "source": [
        "friendship_M.value_counts().plot(kind = 'barh')"
      ],
      "execution_count": null,
      "outputs": []
    },
    {
      "cell_type": "markdown",
      "metadata": {
        "id": "S6K7MjBeW9dg"
      },
      "source": [
        "# **Uploading Stories Analysis**"
      ]
    },
    {
      "cell_type": "code",
      "metadata": {
        "colab": {
          "base_uri": "https://localhost:8080/",
          "height": 394
        },
        "id": "PlSG7r_61HnW",
        "outputId": "62990c86-7cdb-4c3e-86d2-e980baa282ca"
      },
      "source": [
        "story.describe(include = \"all\")"
      ],
      "execution_count": null,
      "outputs": [
        {
          "output_type": "execute_result",
          "data": {
            "text/html": [
              "<div>\n",
              "<style scoped>\n",
              "    .dataframe tbody tr th:only-of-type {\n",
              "        vertical-align: middle;\n",
              "    }\n",
              "\n",
              "    .dataframe tbody tr th {\n",
              "        vertical-align: top;\n",
              "    }\n",
              "\n",
              "    .dataframe thead th {\n",
              "        text-align: right;\n",
              "    }\n",
              "</style>\n",
              "<table border=\"1\" class=\"dataframe\">\n",
              "  <thead>\n",
              "    <tr style=\"text-align: right;\">\n",
              "      <th></th>\n",
              "      <th>id</th>\n",
              "      <th>user</th>\n",
              "      <th>photo</th>\n",
              "      <th>modified</th>\n",
              "      <th>created</th>\n",
              "    </tr>\n",
              "  </thead>\n",
              "  <tbody>\n",
              "    <tr>\n",
              "      <th>count</th>\n",
              "      <td>132171.000000</td>\n",
              "      <td>132171.000000</td>\n",
              "      <td>132171</td>\n",
              "      <td>132171</td>\n",
              "      <td>132171</td>\n",
              "    </tr>\n",
              "    <tr>\n",
              "      <th>unique</th>\n",
              "      <td>NaN</td>\n",
              "      <td>NaN</td>\n",
              "      <td>132171</td>\n",
              "      <td>131528</td>\n",
              "      <td>131527</td>\n",
              "    </tr>\n",
              "    <tr>\n",
              "      <th>top</th>\n",
              "      <td>NaN</td>\n",
              "      <td>NaN</td>\n",
              "      <td>static/images/d57f81f5015949d7a898ccdfb3956242...</td>\n",
              "      <td>2020-10-12 13:33:48</td>\n",
              "      <td>2020-10-12 13:33:48</td>\n",
              "    </tr>\n",
              "    <tr>\n",
              "      <th>freq</th>\n",
              "      <td>NaN</td>\n",
              "      <td>NaN</td>\n",
              "      <td>1</td>\n",
              "      <td>3</td>\n",
              "      <td>3</td>\n",
              "    </tr>\n",
              "    <tr>\n",
              "      <th>mean</th>\n",
              "      <td>157274.640882</td>\n",
              "      <td>562787.354927</td>\n",
              "      <td>NaN</td>\n",
              "      <td>NaN</td>\n",
              "      <td>NaN</td>\n",
              "    </tr>\n",
              "    <tr>\n",
              "      <th>std</th>\n",
              "      <td>59253.572722</td>\n",
              "      <td>173672.722990</td>\n",
              "      <td>NaN</td>\n",
              "      <td>NaN</td>\n",
              "      <td>NaN</td>\n",
              "    </tr>\n",
              "    <tr>\n",
              "      <th>min</th>\n",
              "      <td>67856.000000</td>\n",
              "      <td>952.000000</td>\n",
              "      <td>NaN</td>\n",
              "      <td>NaN</td>\n",
              "      <td>NaN</td>\n",
              "    </tr>\n",
              "    <tr>\n",
              "      <th>25%</th>\n",
              "      <td>101853.000000</td>\n",
              "      <td>504614.000000</td>\n",
              "      <td>NaN</td>\n",
              "      <td>NaN</td>\n",
              "      <td>NaN</td>\n",
              "    </tr>\n",
              "    <tr>\n",
              "      <th>50%</th>\n",
              "      <td>152790.000000</td>\n",
              "      <td>598514.000000</td>\n",
              "      <td>NaN</td>\n",
              "      <td>NaN</td>\n",
              "      <td>NaN</td>\n",
              "    </tr>\n",
              "    <tr>\n",
              "      <th>75%</th>\n",
              "      <td>208783.500000</td>\n",
              "      <td>678946.000000</td>\n",
              "      <td>NaN</td>\n",
              "      <td>NaN</td>\n",
              "      <td>NaN</td>\n",
              "    </tr>\n",
              "    <tr>\n",
              "      <th>max</th>\n",
              "      <td>267398.000000</td>\n",
              "      <td>828798.000000</td>\n",
              "      <td>NaN</td>\n",
              "      <td>NaN</td>\n",
              "      <td>NaN</td>\n",
              "    </tr>\n",
              "  </tbody>\n",
              "</table>\n",
              "</div>"
            ],
            "text/plain": [
              "                   id           user  ...             modified              created\n",
              "count   132171.000000  132171.000000  ...               132171               132171\n",
              "unique            NaN            NaN  ...               131528               131527\n",
              "top               NaN            NaN  ...  2020-10-12 13:33:48  2020-10-12 13:33:48\n",
              "freq              NaN            NaN  ...                    3                    3\n",
              "mean    157274.640882  562787.354927  ...                  NaN                  NaN\n",
              "std      59253.572722  173672.722990  ...                  NaN                  NaN\n",
              "min      67856.000000     952.000000  ...                  NaN                  NaN\n",
              "25%     101853.000000  504614.000000  ...                  NaN                  NaN\n",
              "50%     152790.000000  598514.000000  ...                  NaN                  NaN\n",
              "75%     208783.500000  678946.000000  ...                  NaN                  NaN\n",
              "max     267398.000000  828798.000000  ...                  NaN                  NaN\n",
              "\n",
              "[11 rows x 5 columns]"
            ]
          },
          "metadata": {
            "tags": []
          },
          "execution_count": 47
        }
      ]
    },
    {
      "cell_type": "code",
      "metadata": {
        "colab": {
          "base_uri": "https://localhost:8080/"
        },
        "id": "XRC3JRlx1Hnf",
        "outputId": "0d23bd5e-0a56-4931-bc96-e13141ee801f"
      },
      "source": [
        "story['modified'] "
      ],
      "execution_count": null,
      "outputs": [
        {
          "output_type": "execute_result",
          "data": {
            "text/plain": [
              "0         2020-12-18 12:29:15\n",
              "1         2020-12-18 12:27:22\n",
              "2         2020-12-18 12:26:08\n",
              "3         2020-12-18 12:25:39\n",
              "4         2020-12-18 12:25:02\n",
              "                 ...         \n",
              "132166    2020-05-30 08:19:25\n",
              "132167    2020-05-30 08:18:40\n",
              "132168    2020-05-30 08:16:25\n",
              "132169    2020-05-30 08:15:59\n",
              "132170    2020-05-30 08:15:25\n",
              "Name: modified, Length: 132171, dtype: object"
            ]
          },
          "metadata": {
            "tags": []
          },
          "execution_count": 48
        }
      ]
    },
    {
      "cell_type": "code",
      "metadata": {
        "id": "g5VdX0O71Hno"
      },
      "source": [
        "story['modified']  = pd.to_datetime(story['modified'])"
      ],
      "execution_count": null,
      "outputs": []
    },
    {
      "cell_type": "markdown",
      "metadata": {
        "id": "lvzFMtguXwQh"
      },
      "source": [
        "# How many stories are being uploaded per day  \n",
        "\n",
        "on minimum 181\n",
        "\n",
        "on average 651\n",
        "\n",
        "on maximum 1011"
      ]
    },
    {
      "cell_type": "code",
      "metadata": {
        "colab": {
          "base_uri": "https://localhost:8080/"
        },
        "id": "Kbmb1eR85Rr3",
        "outputId": "c4fe1a77-4804-45ff-b70c-eaa64c72e787"
      },
      "source": [
        "per_d = story.modified.dt.to_period(\"D\")\n",
        "story_D = story['modified'].groupby(per_d)\n",
        "story_D.count().mean()"
      ],
      "execution_count": null,
      "outputs": [
        {
          "output_type": "execute_result",
          "data": {
            "text/plain": [
              "651.0886699507389"
            ]
          },
          "metadata": {
            "tags": []
          },
          "execution_count": 50
        }
      ]
    },
    {
      "cell_type": "code",
      "metadata": {
        "colab": {
          "base_uri": "https://localhost:8080/"
        },
        "id": "7sLIkGtkYqaa",
        "outputId": "95ef2857-44f3-4437-8749-e65422c98ac5"
      },
      "source": [
        "story_D.count().min()"
      ],
      "execution_count": null,
      "outputs": [
        {
          "output_type": "execute_result",
          "data": {
            "text/plain": [
              "181"
            ]
          },
          "metadata": {
            "tags": []
          },
          "execution_count": 51
        }
      ]
    },
    {
      "cell_type": "code",
      "metadata": {
        "colab": {
          "base_uri": "https://localhost:8080/"
        },
        "id": "Fg46UCIiYtp4",
        "outputId": "d17dc618-d074-440d-abb1-1c7a34c88616"
      },
      "source": [
        "story_D.count().max()"
      ],
      "execution_count": null,
      "outputs": [
        {
          "output_type": "execute_result",
          "data": {
            "text/plain": [
              "1011"
            ]
          },
          "metadata": {
            "tags": []
          },
          "execution_count": 52
        }
      ]
    },
    {
      "cell_type": "markdown",
      "metadata": {
        "id": "0RoC0rGtYQDV"
      },
      "source": [
        "#Stories uploading peaks - Hour\n",
        "\n",
        "6:00 PM\n",
        "\n"
      ]
    },
    {
      "cell_type": "code",
      "metadata": {
        "colab": {
          "base_uri": "https://localhost:8080/"
        },
        "id": "yKNCL_VU5RrX",
        "outputId": "235ddb7b-2b9d-4f47-dff7-a00d70571470"
      },
      "source": [
        "story_h = story['modified'].dt.strftime('%H') \n",
        "story_h"
      ],
      "execution_count": null,
      "outputs": [
        {
          "output_type": "execute_result",
          "data": {
            "text/plain": [
              "0         12\n",
              "1         12\n",
              "2         12\n",
              "3         12\n",
              "4         12\n",
              "          ..\n",
              "132166    08\n",
              "132167    08\n",
              "132168    08\n",
              "132169    08\n",
              "132170    08\n",
              "Name: modified, Length: 132171, dtype: object"
            ]
          },
          "metadata": {
            "tags": []
          },
          "execution_count": 53
        }
      ]
    },
    {
      "cell_type": "code",
      "metadata": {
        "colab": {
          "base_uri": "https://localhost:8080/"
        },
        "id": "rTSqeNO55Rrj",
        "outputId": "c4b03d0d-9e15-48cf-a47d-5861dd76549c"
      },
      "source": [
        "story_h.value_counts().sort_values()"
      ],
      "execution_count": null,
      "outputs": [
        {
          "output_type": "execute_result",
          "data": {
            "text/plain": [
              "04    2283\n",
              "03    2503\n",
              "05    2543\n",
              "02    2636\n",
              "06    3060\n",
              "01    3294\n",
              "00    3988\n",
              "07    4034\n",
              "08    4746\n",
              "23    5362\n",
              "09    5499\n",
              "22    5893\n",
              "16    6700\n",
              "10    6802\n",
              "15    6818\n",
              "11    6990\n",
              "21    6996\n",
              "17    7158\n",
              "13    7212\n",
              "19    7434\n",
              "14    7483\n",
              "20    7498\n",
              "12    7560\n",
              "18    7679\n",
              "Name: modified, dtype: int64"
            ]
          },
          "metadata": {
            "tags": []
          },
          "execution_count": 55
        }
      ]
    },
    {
      "cell_type": "code",
      "metadata": {
        "colab": {
          "base_uri": "https://localhost:8080/",
          "height": 282
        },
        "id": "JdBEG7aX5Rrm",
        "outputId": "8e91f072-503d-4a15-c582-0dd09bd62ae3"
      },
      "source": [
        "story_h.value_counts().sort_values().plot(kind = 'barh')"
      ],
      "execution_count": null,
      "outputs": [
        {
          "output_type": "execute_result",
          "data": {
            "text/plain": [
              "<matplotlib.axes._subplots.AxesSubplot at 0x7f997ab73438>"
            ]
          },
          "metadata": {
            "tags": []
          },
          "execution_count": 56
        },
        {
          "output_type": "display_data",
          "data": {
            "image/png": "[encoded data removed]",
            "text/plain": [
              "<Figure size 432x288 with 1 Axes>"
            ]
          },
          "metadata": {
            "tags": []
          }
        }
      ]
    },
    {
      "cell_type": "markdown",
      "metadata": {
        "id": "JrSQtr23YQDb"
      },
      "source": [
        "#Stories uploading peaks - Day\n",
        "\n",
        "'2020-06-10'\n",
        "\n",
        "\n"
      ]
    },
    {
      "cell_type": "code",
      "metadata": {
        "colab": {
          "base_uri": "https://localhost:8080/"
        },
        "id": "9UWOemgz5Rrt",
        "outputId": "79380262-4f12-489e-e312-06a720ba51a9"
      },
      "source": [
        "per = story.modified.dt.to_period(\"D\")\n",
        "story_D = story['modified'].groupby(per)\n",
        "story_D.count().sort_values() "
      ],
      "execution_count": null,
      "outputs": [
        {
          "output_type": "execute_result",
          "data": {
            "text/plain": [
              "modified\n",
              "2020-12-18     181\n",
              "2020-11-18     312\n",
              "2020-11-14     347\n",
              "2020-11-20     348\n",
              "2020-11-21     349\n",
              "              ... \n",
              "2020-08-26     949\n",
              "2020-06-20     950\n",
              "2020-06-18     956\n",
              "2020-06-13     976\n",
              "2020-06-10    1011\n",
              "Freq: D, Name: modified, Length: 203, dtype: int64"
            ]
          },
          "metadata": {
            "tags": []
          },
          "execution_count": 57
        }
      ]
    },
    {
      "cell_type": "code",
      "metadata": {
        "id": "45E0zR2O5Rru"
      },
      "source": [
        "story_D.value_counts().sort_values().plot(kind = 'barh')"
      ],
      "execution_count": null,
      "outputs": []
    },
    {
      "cell_type": "markdown",
      "metadata": {
        "id": "ro5lvUBqYQDg"
      },
      "source": [
        "#Stories uploading peaks - Month\n",
        "June\n",
        "\n"
      ]
    },
    {
      "cell_type": "code",
      "metadata": {
        "colab": {
          "base_uri": "https://localhost:8080/"
        },
        "id": "0mC6K0Ws5Rrw",
        "outputId": "62900dde-63ef-4e8d-870c-5ad50b70ed3a"
      },
      "source": [
        "per_m = story.modified.dt.to_period(\"M\")\n",
        "story_M = story['modified'].groupby(per_m)\n",
        "story_M.count().sort_values() "
      ],
      "execution_count": null,
      "outputs": [
        {
          "output_type": "execute_result",
          "data": {
            "text/plain": [
              "modified\n",
              "2020-05     1376\n",
              "2020-12     7361\n",
              "2020-11    12971\n",
              "2020-10    18082\n",
              "2020-09    21406\n",
              "2020-07    22707\n",
              "2020-08    23112\n",
              "2020-06    25156\n",
              "Freq: M, Name: modified, dtype: int64"
            ]
          },
          "metadata": {
            "tags": []
          },
          "execution_count": 59
        }
      ]
    },
    {
      "cell_type": "code",
      "metadata": {
        "id": "01o0T6gy5Rry"
      },
      "source": [
        "story_M.value_counts().plot(kind = 'barh')"
      ],
      "execution_count": null,
      "outputs": []
    },
    {
      "cell_type": "markdown",
      "metadata": {
        "id": "z5Hpj8tfbkzo"
      },
      "source": [
        "# **Viewing Stories Analysis**"
      ]
    },
    {
      "cell_type": "code",
      "metadata": {
        "colab": {
          "base_uri": "https://localhost:8080/",
          "height": 394
        },
        "id": "TRdUcYta8332",
        "outputId": "971c7f0b-7582-4ba9-f620-2f028a6b2c86"
      },
      "source": [
        "story_views.describe(include = \"all\")"
      ],
      "execution_count": null,
      "outputs": [
        {
          "output_type": "execute_result",
          "data": {
            "text/html": [
              "<div>\n",
              "<style scoped>\n",
              "    .dataframe tbody tr th:only-of-type {\n",
              "        vertical-align: middle;\n",
              "    }\n",
              "\n",
              "    .dataframe tbody tr th {\n",
              "        vertical-align: top;\n",
              "    }\n",
              "\n",
              "    .dataframe thead th {\n",
              "        text-align: right;\n",
              "    }\n",
              "</style>\n",
              "<table border=\"1\" class=\"dataframe\">\n",
              "  <thead>\n",
              "    <tr style=\"text-align: right;\">\n",
              "      <th></th>\n",
              "      <th>id</th>\n",
              "      <th>created</th>\n",
              "      <th>modified</th>\n",
              "      <th>story_owner_user_id</th>\n",
              "      <th>story_viewer_user_id</th>\n",
              "      <th>story_id</th>\n",
              "    </tr>\n",
              "  </thead>\n",
              "  <tbody>\n",
              "    <tr>\n",
              "      <th>count</th>\n",
              "      <td>1.591019e+06</td>\n",
              "      <td>1591019</td>\n",
              "      <td>1591019</td>\n",
              "      <td>1.591019e+06</td>\n",
              "      <td>1.591019e+06</td>\n",
              "      <td>1.591019e+06</td>\n",
              "    </tr>\n",
              "    <tr>\n",
              "      <th>unique</th>\n",
              "      <td>NaN</td>\n",
              "      <td>1591016</td>\n",
              "      <td>1591016</td>\n",
              "      <td>NaN</td>\n",
              "      <td>NaN</td>\n",
              "      <td>NaN</td>\n",
              "    </tr>\n",
              "    <tr>\n",
              "      <th>top</th>\n",
              "      <td>NaN</td>\n",
              "      <td>2020-11-03 14:56:07.554715</td>\n",
              "      <td>2020-07-18 13:08:46.410566</td>\n",
              "      <td>NaN</td>\n",
              "      <td>NaN</td>\n",
              "      <td>NaN</td>\n",
              "    </tr>\n",
              "    <tr>\n",
              "      <th>freq</th>\n",
              "      <td>NaN</td>\n",
              "      <td>2</td>\n",
              "      <td>2</td>\n",
              "      <td>NaN</td>\n",
              "      <td>NaN</td>\n",
              "      <td>NaN</td>\n",
              "    </tr>\n",
              "    <tr>\n",
              "      <th>mean</th>\n",
              "      <td>2.533715e+06</td>\n",
              "      <td>NaN</td>\n",
              "      <td>NaN</td>\n",
              "      <td>5.429219e+05</td>\n",
              "      <td>5.395739e+05</td>\n",
              "      <td>1.601989e+05</td>\n",
              "    </tr>\n",
              "    <tr>\n",
              "      <th>std</th>\n",
              "      <td>1.551828e+06</td>\n",
              "      <td>NaN</td>\n",
              "      <td>NaN</td>\n",
              "      <td>1.762206e+05</td>\n",
              "      <td>1.776967e+05</td>\n",
              "      <td>5.728266e+04</td>\n",
              "    </tr>\n",
              "    <tr>\n",
              "      <th>min</th>\n",
              "      <td>1.000000e+00</td>\n",
              "      <td>NaN</td>\n",
              "      <td>NaN</td>\n",
              "      <td>9.520000e+02</td>\n",
              "      <td>9.520000e+02</td>\n",
              "      <td>6.785600e+04</td>\n",
              "    </tr>\n",
              "    <tr>\n",
              "      <th>25%</th>\n",
              "      <td>1.162114e+06</td>\n",
              "      <td>NaN</td>\n",
              "      <td>NaN</td>\n",
              "      <td>4.817560e+05</td>\n",
              "      <td>4.714710e+05</td>\n",
              "      <td>1.087400e+05</td>\n",
              "    </tr>\n",
              "    <tr>\n",
              "      <th>50%</th>\n",
              "      <td>2.477886e+06</td>\n",
              "      <td>NaN</td>\n",
              "      <td>NaN</td>\n",
              "      <td>5.746070e+05</td>\n",
              "      <td>5.735300e+05</td>\n",
              "      <td>1.576970e+05</td>\n",
              "    </tr>\n",
              "    <tr>\n",
              "      <th>75%</th>\n",
              "      <td>3.881184e+06</td>\n",
              "      <td>NaN</td>\n",
              "      <td>NaN</td>\n",
              "      <td>6.592790e+05</td>\n",
              "      <td>6.622720e+05</td>\n",
              "      <td>2.087480e+05</td>\n",
              "    </tr>\n",
              "    <tr>\n",
              "      <th>max</th>\n",
              "      <td>5.331739e+06</td>\n",
              "      <td>NaN</td>\n",
              "      <td>NaN</td>\n",
              "      <td>8.286430e+05</td>\n",
              "      <td>8.286210e+05</td>\n",
              "      <td>2.673660e+05</td>\n",
              "    </tr>\n",
              "  </tbody>\n",
              "</table>\n",
              "</div>"
            ],
            "text/plain": [
              "                  id  ...      story_id\n",
              "count   1.591019e+06  ...  1.591019e+06\n",
              "unique           NaN  ...           NaN\n",
              "top              NaN  ...           NaN\n",
              "freq             NaN  ...           NaN\n",
              "mean    2.533715e+06  ...  1.601989e+05\n",
              "std     1.551828e+06  ...  5.728266e+04\n",
              "min     1.000000e+00  ...  6.785600e+04\n",
              "25%     1.162114e+06  ...  1.087400e+05\n",
              "50%     2.477886e+06  ...  1.576970e+05\n",
              "75%     3.881184e+06  ...  2.087480e+05\n",
              "max     5.331739e+06  ...  2.673660e+05\n",
              "\n",
              "[11 rows x 6 columns]"
            ]
          },
          "metadata": {
            "tags": []
          },
          "execution_count": 77
        }
      ]
    },
    {
      "cell_type": "code",
      "metadata": {
        "colab": {
          "base_uri": "https://localhost:8080/"
        },
        "id": "ttcHwpDW834H",
        "outputId": "1da98c58-0258-48be-fb3d-db19d69da863"
      },
      "source": [
        "story_views['modified'] "
      ],
      "execution_count": null,
      "outputs": [
        {
          "output_type": "execute_result",
          "data": {
            "text/plain": [
              "0          2020-05-30 08:21:05.363816\n",
              "1          2020-05-30 11:08:55.662492\n",
              "2          2020-05-30 11:08:57.436011\n",
              "3          2020-05-30 11:08:58.260169\n",
              "4          2020-05-30 11:08:58.862826\n",
              "                      ...            \n",
              "1591014    2020-12-18 11:04:08.861792\n",
              "1591015    2020-12-18 11:04:10.231020\n",
              "1591016    2020-12-18 11:06:13.478961\n",
              "1591017    2020-12-18 11:06:33.728508\n",
              "1591018    2020-12-18 11:06:53.018515\n",
              "Name: modified, Length: 1591019, dtype: object"
            ]
          },
          "metadata": {
            "tags": []
          },
          "execution_count": 78
        }
      ]
    },
    {
      "cell_type": "code",
      "metadata": {
        "id": "OfqMWf68834P"
      },
      "source": [
        "story_views['modified']  = pd.to_datetime(story_views['modified'])"
      ],
      "execution_count": null,
      "outputs": []
    },
    {
      "cell_type": "markdown",
      "metadata": {
        "id": "d6WqrI4Sbk0I"
      },
      "source": [
        "# How many stories are being viewed per day  \n",
        "\n",
        "on minimum 1432\n",
        "\n",
        "on average 7837\n",
        "\n",
        "on maximum 12951"
      ]
    },
    {
      "cell_type": "code",
      "metadata": {
        "colab": {
          "base_uri": "https://localhost:8080/"
        },
        "id": "Vqt-C5Ny9XpM",
        "outputId": "99b4b224-f1b5-47bb-fc95-344775c4f89e"
      },
      "source": [
        "per_d = story_views.modified.dt.to_period(\"D\")\n",
        "story_views_D = story_views['modified'].groupby(per_d)\n",
        "story_views_D.count().mean()"
      ],
      "execution_count": null,
      "outputs": [
        {
          "output_type": "execute_result",
          "data": {
            "text/plain": [
              "7837.532019704434"
            ]
          },
          "metadata": {
            "tags": []
          },
          "execution_count": 81
        }
      ]
    },
    {
      "cell_type": "code",
      "metadata": {
        "colab": {
          "base_uri": "https://localhost:8080/"
        },
        "id": "_my7L18N9Xpa",
        "outputId": "82dea8c4-a07a-47b3-855b-08c8360e381b"
      },
      "source": [
        "story_views_D.count().min()"
      ],
      "execution_count": null,
      "outputs": [
        {
          "output_type": "execute_result",
          "data": {
            "text/plain": [
              "1432"
            ]
          },
          "metadata": {
            "tags": []
          },
          "execution_count": 82
        }
      ]
    },
    {
      "cell_type": "code",
      "metadata": {
        "colab": {
          "base_uri": "https://localhost:8080/"
        },
        "id": "b5DRFoxZ9Xpj",
        "outputId": "315f2441-aa7b-4058-8cd9-19e2fa19e7ed"
      },
      "source": [
        "story_views_D.count().max()"
      ],
      "execution_count": null,
      "outputs": [
        {
          "output_type": "execute_result",
          "data": {
            "text/plain": [
              "12951"
            ]
          },
          "metadata": {
            "tags": []
          },
          "execution_count": 83
        }
      ]
    },
    {
      "cell_type": "markdown",
      "metadata": {
        "id": "L8FjqzTNbk0V"
      },
      "source": [
        "#Stories viewing peaks - Hour\n",
        "\n",
        "6:00 PM\n"
      ]
    },
    {
      "cell_type": "code",
      "metadata": {
        "colab": {
          "base_uri": "https://localhost:8080/"
        },
        "id": "mHNcENl4-Qxq",
        "outputId": "9109aec0-27f4-4674-d59a-b5bd4ddd1fa3"
      },
      "source": [
        "story_views_h = story_views['modified'].dt.strftime('%H') \n",
        "story_views_h"
      ],
      "execution_count": null,
      "outputs": [
        {
          "output_type": "execute_result",
          "data": {
            "text/plain": [
              "0          08\n",
              "1          11\n",
              "2          11\n",
              "3          11\n",
              "4          11\n",
              "           ..\n",
              "1591014    11\n",
              "1591015    11\n",
              "1591016    11\n",
              "1591017    11\n",
              "1591018    11\n",
              "Name: modified, Length: 1591019, dtype: object"
            ]
          },
          "metadata": {
            "tags": []
          },
          "execution_count": 88
        }
      ]
    },
    {
      "cell_type": "code",
      "metadata": {
        "colab": {
          "base_uri": "https://localhost:8080/"
        },
        "id": "OTJ5XCAP-Qxu",
        "outputId": "4456381e-cf98-49b7-f323-5d2946f7a748"
      },
      "source": [
        "story_views_h.value_counts().sort_values()"
      ],
      "execution_count": null,
      "outputs": [
        {
          "output_type": "execute_result",
          "data": {
            "text/plain": [
              "03    26809\n",
              "02    29520\n",
              "04    32014\n",
              "01    33383\n",
              "05    36345\n",
              "00    44054\n",
              "06    48396\n",
              "07    56516\n",
              "23    58491\n",
              "08    63751\n",
              "09    69390\n",
              "22    71423\n",
              "10    80902\n",
              "13    81929\n",
              "21    82456\n",
              "15    82799\n",
              "16    83012\n",
              "11    84009\n",
              "14    84763\n",
              "17    85983\n",
              "20    87602\n",
              "12    88529\n",
              "19    88705\n",
              "18    90238\n",
              "Name: modified, dtype: int64"
            ]
          },
          "metadata": {
            "tags": []
          },
          "execution_count": 89
        }
      ]
    },
    {
      "cell_type": "code",
      "metadata": {
        "colab": {
          "base_uri": "https://localhost:8080/",
          "height": 282
        },
        "id": "ycKtur93-Qxw",
        "outputId": "60a5e410-0547-4c29-8bc2-187a46f34917"
      },
      "source": [
        "story_views_h.value_counts().sort_values().plot(kind = 'barh')"
      ],
      "execution_count": null,
      "outputs": [
        {
          "output_type": "execute_result",
          "data": {
            "text/plain": [
              "<matplotlib.axes._subplots.AxesSubplot at 0x7f995015c0f0>"
            ]
          },
          "metadata": {
            "tags": []
          },
          "execution_count": 90
        },
        {
          "output_type": "display_data",
          "data": {
            "image/png": "[encoded data removed]",
            "text/plain": [
              "<Figure size 432x288 with 1 Axes>"
            ]
          },
          "metadata": {
            "tags": []
          }
        }
      ]
    },
    {
      "cell_type": "markdown",
      "metadata": {
        "id": "s4hdIsFDbk0e"
      },
      "source": [
        "#Stories viewing peaks - Day\n",
        " \n",
        "'2020-08-27'\n",
        "\n"
      ]
    },
    {
      "cell_type": "code",
      "metadata": {
        "colab": {
          "base_uri": "https://localhost:8080/"
        },
        "id": "7a-G3lmK-uTw",
        "outputId": "d36ac39b-314f-42ac-9c59-fe21b7f79c2c"
      },
      "source": [
        "per = story_views.modified.dt.to_period(\"D\")\n",
        "story_views_D = story_views['modified'].groupby(per)\n",
        "story_views_D.count().sort_values() "
      ],
      "execution_count": null,
      "outputs": [
        {
          "output_type": "execute_result",
          "data": {
            "text/plain": [
              "modified\n",
              "2020-12-18     1432\n",
              "2020-05-30     2690\n",
              "2020-12-14     3067\n",
              "2020-12-13     3795\n",
              "2020-11-21     3997\n",
              "              ...  \n",
              "2020-09-27    11964\n",
              "2020-08-22    11982\n",
              "2020-10-04    12162\n",
              "2020-08-26    12266\n",
              "2020-08-27    12951\n",
              "Freq: D, Name: modified, Length: 203, dtype: int64"
            ]
          },
          "metadata": {
            "tags": []
          },
          "execution_count": 92
        }
      ]
    },
    {
      "cell_type": "code",
      "metadata": {
        "id": "RAPh3IqL-uT3"
      },
      "source": [
        "story_views_D.value_counts().sort_values().plot(kind = 'barh')"
      ],
      "execution_count": null,
      "outputs": []
    },
    {
      "cell_type": "markdown",
      "metadata": {
        "id": "2Nzw25g-bk0h"
      },
      "source": [
        "#Stories viewing peaks - Month\n",
        "\n",
        "August\n",
        "\n"
      ]
    },
    {
      "cell_type": "code",
      "metadata": {
        "colab": {
          "base_uri": "https://localhost:8080/"
        },
        "id": "mK53snSBAF2c",
        "outputId": "b4a10c9d-8602-4ad1-9f00-dd1c9a8c71c1"
      },
      "source": [
        "per_m = story_views.modified.dt.to_period(\"M\")\n",
        "story_views_M = story_views['modified'].groupby(per_m)\n",
        "story_views_M.count().sort_values() "
      ],
      "execution_count": null,
      "outputs": [
        {
          "output_type": "execute_result",
          "data": {
            "text/plain": [
              "modified\n",
              "2020-05     10103\n",
              "2020-12     80333\n",
              "2020-11    158862\n",
              "2020-10    237684\n",
              "2020-06    255161\n",
              "2020-07    271919\n",
              "2020-09    278610\n",
              "2020-08    298347\n",
              "Freq: M, Name: modified, dtype: int64"
            ]
          },
          "metadata": {
            "tags": []
          },
          "execution_count": 93
        }
      ]
    },
    {
      "cell_type": "code",
      "metadata": {
        "colab": {
          "background_save": true
        },
        "id": "4R4SXEfeAF2o",
        "outputId": "735146f0-56e6-4fb6-899f-64d23ff8606c"
      },
      "source": [
        "story_views_M.value_counts().plot(kind = 'barh')"
      ],
      "execution_count": null,
      "outputs": [
        {
          "output_type": "error",
          "ename": "NameError",
          "evalue": "ignored",
          "traceback": [
            "\u001b[0;31m---------------------------------------------------------------------------\u001b[0m",
            "\u001b[0;31mNameError\u001b[0m                                 Traceback (most recent call last)",
            "\u001b[0;32m<ipython-input-1-d69c76395e31>\u001b[0m in \u001b[0;36m<module>\u001b[0;34m()\u001b[0m\n\u001b[0;32m----> 1\u001b[0;31m \u001b[0mstory_views_M\u001b[0m\u001b[0;34m.\u001b[0m\u001b[0mvalue_counts\u001b[0m\u001b[0;34m(\u001b[0m\u001b[0;34m)\u001b[0m\u001b[0;34m.\u001b[0m\u001b[0mplot\u001b[0m\u001b[0;34m(\u001b[0m\u001b[0mkind\u001b[0m \u001b[0;34m=\u001b[0m \u001b[0;34m'barh'\u001b[0m\u001b[0;34m)\u001b[0m\u001b[0;34m\u001b[0m\u001b[0;34m\u001b[0m\u001b[0m\n\u001b[0m",
            "\u001b[0;31mNameError\u001b[0m: name 'story_views_M' is not defined"
          ]
        }
      ]
    }
  ]
}